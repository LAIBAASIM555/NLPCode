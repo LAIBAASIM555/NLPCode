{
  "nbformat": 4,
  "nbformat_minor": 0,
  "metadata": {
    "colab": {
      "provenance": [],
      "authorship_tag": "ABX9TyMq+hrKrmUAKd9tnzNzDist",
      "include_colab_link": true
    },
    "kernelspec": {
      "name": "python3",
      "display_name": "Python 3"
    },
    "language_info": {
      "name": "python"
    }
  },
  "cells": [
    {
      "cell_type": "markdown",
      "metadata": {
        "id": "view-in-github",
        "colab_type": "text"
      },
      "source": [
        "<a href=\"https://colab.research.google.com/github/LAIBAASIM555/NLPApp/blob/main/opp_project.ipynb\" target=\"_parent\"><img src=\"https://colab.research.google.com/assets/colab-badge.svg\" alt=\"Open In Colab\"/></a>"
      ]
    },
    {
      "cell_type": "code",
      "execution_count": 2,
      "metadata": {
        "colab": {
          "base_uri": "https://localhost:8080/"
        },
        "id": "nOrqW9X756vf",
        "outputId": "fe63beb0-5c0d-40c1-9033-bb9f5e2916ad"
      },
      "outputs": [
        {
          "output_type": "stream",
          "name": "stdout",
          "text": [
            "Collecting nlpcloud\n",
            "  Downloading nlpcloud-1.1.46-py3-none-any.whl.metadata (1.1 kB)\n",
            "Requirement already satisfied: requests in /usr/local/lib/python3.10/dist-packages (from nlpcloud) (2.32.3)\n",
            "Requirement already satisfied: charset-normalizer<4,>=2 in /usr/local/lib/python3.10/dist-packages (from requests->nlpcloud) (3.4.0)\n",
            "Requirement already satisfied: idna<4,>=2.5 in /usr/local/lib/python3.10/dist-packages (from requests->nlpcloud) (3.10)\n",
            "Requirement already satisfied: urllib3<3,>=1.21.1 in /usr/local/lib/python3.10/dist-packages (from requests->nlpcloud) (2.2.3)\n",
            "Requirement already satisfied: certifi>=2017.4.17 in /usr/local/lib/python3.10/dist-packages (from requests->nlpcloud) (2024.8.30)\n",
            "Downloading nlpcloud-1.1.46-py3-none-any.whl (3.9 kB)\n",
            "Installing collected packages: nlpcloud\n",
            "Successfully installed nlpcloud-1.1.46\n"
          ]
        }
      ],
      "source": [
        "!pip install nlpcloud"
      ]
    },
    {
      "cell_type": "code",
      "source": [
        "import nlpcloud\n",
        "\n",
        "client = nlpcloud.Client(\"finetuned-llama-3-70b\", \"7116b4bb1421e3c7fbfe0f49aea89504f66e1129\", gpu=True)\n",
        "client.entities(\n",
        "    \"\"\"John Doe started learning Javascript when he was 15 years old. After a couple of years he switched to Python and starter learning low level programming. He is now a Go expert at Google.\"\"\",\n",
        "    searched_entity=\"programming languages\"\n",
        ")"
      ],
      "metadata": {
        "colab": {
          "base_uri": "https://localhost:8080/"
        },
        "id": "IDnUVGP46NBm",
        "outputId": "c66f2aee-cb92-4b74-b173-eafcf5708a80"
      },
      "execution_count": 3,
      "outputs": [
        {
          "output_type": "execute_result",
          "data": {
            "text/plain": [
              "{'entities': [{'start': 26,\n",
              "   'end': 36,\n",
              "   'type': 'programming languages',\n",
              "   'text': 'Javascript'},\n",
              "  {'start': 102,\n",
              "   'end': 108,\n",
              "   'type': 'programming languages',\n",
              "   'text': 'Python'},\n",
              "  {'start': 165, 'end': 167, 'type': 'programming languages', 'text': 'Go'}]}"
            ]
          },
          "metadata": {},
          "execution_count": 3
        }
      ]
    },
    {
      "cell_type": "code",
      "source": [
        "import nlpcloud\n",
        "\n",
        "class NLPApp:\n",
        "    def __init__(self):\n",
        "        self.__database = {}  # Initializes an empty dictionary to store user data with email as the key\n",
        "        self.__first_menu()   # Calls the first menu method to prompt user for registration or login\n",
        "\n",
        "    def __first_menu(self):\n",
        "        \"\"\"\n",
        "        Displays the main menu to the user, allowing them to choose between registering,\n",
        "        logging in, or exiting the program.\n",
        "        \"\"\"\n",
        "        first_input = input(\"\"\"\n",
        "            Hi! How would you like to proceed?\n",
        "            1. Not a member? Register\n",
        "            2. Already a member? Login\n",
        "            3. I am here by mistake, so Exit\n",
        "            \"\"\")\n",
        "\n",
        "        # Routes the user based on input\n",
        "        if first_input == \"1\":\n",
        "            self.__register()\n",
        "        elif first_input == \"2\":\n",
        "            self.__login()\n",
        "        elif first_input == \"3\":\n",
        "            exit()\n",
        "\n",
        "    def __second_menu(self):\n",
        "        second_input = input(\"\"\"\n",
        "            Hi! How would you like to proceed?\n",
        "            1. NER\n",
        "            2. Language Detection\n",
        "            3. Emotional Analysis\n",
        "            4. Exit\n",
        "            \"\"\")\n",
        "        if second_input == \"1\":\n",
        "            self.__ner()\n",
        "        elif second_input == \"2\":\n",
        "            self.__language_detection()\n",
        "        elif second_input == \"3\":\n",
        "            self.__emotional_analysis()\n",
        "        elif second_input == \"4\":\n",
        "            exit()\n",
        "\n",
        "    def __register(self):\n",
        "        name = input(\"Enter your name: \")\n",
        "        password = input(\"Enter your password: \")\n",
        "        email = input(\"Enter your email: \")\n",
        "\n",
        "        if email in self.__database:\n",
        "            print(\"Email already exists\")\n",
        "        else:\n",
        "            self.__database[email] = [name, password]\n",
        "            print(\"Registration successful\")\n",
        "            self.__first_menu()\n",
        "\n",
        "    def __login(self):\n",
        "        email = input(\"Enter your email: \")\n",
        "        password = input(\"Enter your password: \")\n",
        "\n",
        "        if email in self.__database:\n",
        "            if self.__database[email][1] == password:\n",
        "                print(\"Login successful\")\n",
        "                self.__second_menu()\n",
        "            else:\n",
        "                print(\"Wrong Password. Try again.\")\n",
        "                self.__login()\n",
        "        else:\n",
        "            print(\"This email is not registered\")\n",
        "            self.__first_menu()\n",
        "\n",
        "    def __ner(self):\n",
        "        paragraph = input(\"Enter the paragraph: \")\n",
        "        client = nlpcloud.Client(\"en_core_web_trf\", \"7116b4bb1421e3c7fbfe0f49aea89504f66e1129\", gpu=True)\n",
        "        response = client.entities(paragraph)\n",
        "        print(\"Entities found:\", response)\n",
        "\n",
        "    def __language_detection(self):\n",
        "       paragraph = input(\"Enter the paragraph: \")\n",
        "       client = nlpcloud.Client(\"m2m100_418M\", \"7116b4bb1421e3c7fbfe0f49aea89504f66e1129\", gpu=False)\n",
        "       response = client.langdetection(paragraph)\n",
        "       print(\"Detected Language:\", response)\n",
        "\n",
        "\n",
        "    def __emotional_analysis(self):\n",
        "        paragraph = input(\"Enter the paragraph for emotional analysis: \")\n",
        "        client = nlpcloud.Client(\"distilbert-base-uncased-emotion\", \"7116b4bb1421e3c7fbfe0f49aea89504f66e1129\", gpu=False)\n",
        "        response = client.sentiment(paragraph)\n",
        "        print(\"Emotional analysis:\", response)\n",
        "\n",
        "\n",
        "        L = []\n",
        "        for i in response['scored_labels']:\n",
        "          L.append(i['score'])\n",
        "\n",
        "        index = sorted(list(enumerate(L)),key=lambda x:x[1],reverse=True)[0][0]\n",
        "        print(response['scored_labels'][index]['label'])\n",
        "        self.__second_menu()\n",
        "\n",
        "# Creates an instance of NLPApp to run the application\n",
        "obj = NLPApp()\n"
      ],
      "metadata": {
        "id": "LQ2vcomY6U3S"
      },
      "execution_count": 13,
      "outputs": []
    }
  ]
}